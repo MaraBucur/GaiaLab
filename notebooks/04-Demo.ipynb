{
 "cells": [
  {
   "cell_type": "markdown",
   "metadata": {},
   "source": [
    "# 0.- **Warnings**\n",
    "\n",
    "This notebook cannot be run as it is. It makes use of downloaded data that might be later specified where and how to get the data. If not found, write to a maintainer to get directions"
   ]
  },
  {
   "cell_type": "markdown",
   "metadata": {},
   "source": [
    "# 1.- Imports"
   ]
  },
  {
   "cell_type": "code",
   "execution_count": 1,
   "metadata": {
    "scrolled": true
   },
   "outputs": [
    {
     "name": "stdout",
     "output_type": "stream",
     "text": [
      "Created TAP+ (v1.0.1) - Connection:\n",
      "\tHost: gea.esac.esa.int\n",
      "\tUse HTTPS: False\n",
      "\tPort: 80\n",
      "\tSSL Port: 443\n"
     ]
    }
   ],
   "source": [
    "# Module import\n",
    "import sys\n",
    "import pandas as pd\n",
    "# append to path the folder that contains the analytic scanner\n",
    "sys.path.append('../GaiaLab/scan/analytic_scanner')\n",
    "\n",
    "# local imports\n",
    "import frame_transformations as ft\n",
    "from scanner import Scanner\n",
    "from satellite import Satellite\n",
    "from source import Source\n",
    "import constants as const\n",
    "from agis import Agis\n",
    "from agis import Calc_source\n",
    "from agis_functions import *\n",
    "\n",
    "\n",
    "from analytic_plots import *\n",
    "\n",
    "import matplotlib\n",
    "import time\n",
    "from scipy import sparse as sps\n",
    "import pickle\n",
    "from tqdm import trange\n",
    "\n",
    "from astroquery.gaia import Gaia\n",
    "\n",
    "import warnings\n",
    "warnings.filterwarnings('ignore')\n",
    "\n",
    "DATA_FOLDER = '../../data/'\n",
    "ARCHIVE_FOLDER = DATA_FOLDER+'gaia_archives_data/'\n",
    "PICKLE_FOLDER = DATA_FOLDER+'pickle_data/'\n",
    "FIG_FOLDER = '../figures/'"
   ]
  },
  {
   "cell_type": "markdown",
   "metadata": {},
   "source": [
    "# 2.- Satellite and scanner:"
   ]
  },
  {
   "cell_type": "code",
   "execution_count": 2,
   "metadata": {},
   "outputs": [],
   "source": [
    "t_init = 0 \n",
    "t_end =  t_init + 365\n",
    "my_dt = 1/24/4 # [days]\n",
    "\n",
    "# objects\n",
    "spline_degree = 3\n",
    "gaia = Satellite(ti=t_init, tf=t_end, dt= my_dt, k=spline_degree)"
   ]
  },
  {
   "cell_type": "code",
   "execution_count": 3,
   "metadata": {},
   "outputs": [],
   "source": [
    "double_telescope = True\n",
    "my_scanner = Scanner(zeta_limit=np.radians(0.5) ,double_telescope=double_telescope) "
   ]
  },
  {
   "cell_type": "markdown",
   "metadata": {},
   "source": [
    "# 3.- Get sources from gaia-archives\n",
    "\n",
    "Do the query to gaia archive:"
   ]
  },
  {
   "cell_type": "markdown",
   "metadata": {},
   "source": [
    "### 3.1 Query"
   ]
  },
  {
   "cell_type": "code",
   "execution_count": 4,
   "metadata": {
    "scrolled": true
   },
   "outputs": [
    {
     "name": "stdout",
     "output_type": "stream",
     "text": [
      "Query finished.\n"
     ]
    }
   ],
   "source": [
    "str_query = \"SELECT \\\n",
    "    TOP 10 source_id,random_index,ra,dec,parallax,pmra,pmdec,radial_velocity \\\n",
    "    FROM gaiadr2.gaia_source \\\n",
    "    WHERE parallax_over_error>10 \\\n",
    "        AND radial_velocity<1000\\\n",
    "        AND visibility_periods_used>8 \\\n",
    "        AND astrometric_excess_noise<1 \\\n",
    "    ORDER BY random_index;\"\n",
    "\n",
    "job = Gaia.launch_job_async(str_query);\n",
    "r = job.get_results()\n",
    "df = r.to_pandas()"
   ]
  },
  {
   "cell_type": "code",
   "execution_count": 5,
   "metadata": {},
   "outputs": [
    {
     "data": {
      "text/html": [
       "<div>\n",
       "<style scoped>\n",
       "    .dataframe tbody tr th:only-of-type {\n",
       "        vertical-align: middle;\n",
       "    }\n",
       "\n",
       "    .dataframe tbody tr th {\n",
       "        vertical-align: top;\n",
       "    }\n",
       "\n",
       "    .dataframe thead th {\n",
       "        text-align: right;\n",
       "    }\n",
       "</style>\n",
       "<table border=\"1\" class=\"dataframe\">\n",
       "  <thead>\n",
       "    <tr style=\"text-align: right;\">\n",
       "      <th></th>\n",
       "      <th>source_id</th>\n",
       "      <th>random_index</th>\n",
       "      <th>ra</th>\n",
       "      <th>dec</th>\n",
       "      <th>parallax</th>\n",
       "      <th>pmra</th>\n",
       "      <th>pmdec</th>\n",
       "      <th>radial_velocity</th>\n",
       "    </tr>\n",
       "  </thead>\n",
       "  <tbody>\n",
       "    <tr>\n",
       "      <th>0</th>\n",
       "      <td>5945654653855118976</td>\n",
       "      <td>1077</td>\n",
       "      <td>267.457614</td>\n",
       "      <td>-51.241629</td>\n",
       "      <td>0.590209</td>\n",
       "      <td>-2.561638</td>\n",
       "      <td>-5.680921</td>\n",
       "      <td>-5.695978</td>\n",
       "    </tr>\n",
       "    <tr>\n",
       "      <th>1</th>\n",
       "      <td>2907611259311229568</td>\n",
       "      <td>1205</td>\n",
       "      <td>84.517262</td>\n",
       "      <td>-27.720603</td>\n",
       "      <td>2.331639</td>\n",
       "      <td>-0.747300</td>\n",
       "      <td>19.999349</td>\n",
       "      <td>108.246933</td>\n",
       "    </tr>\n",
       "    <tr>\n",
       "      <th>2</th>\n",
       "      <td>1141434876568787584</td>\n",
       "      <td>1340</td>\n",
       "      <td>94.423445</td>\n",
       "      <td>79.702193</td>\n",
       "      <td>0.790480</td>\n",
       "      <td>0.974301</td>\n",
       "      <td>0.824754</td>\n",
       "      <td>-37.580879</td>\n",
       "    </tr>\n",
       "    <tr>\n",
       "      <th>3</th>\n",
       "      <td>4187550129570302080</td>\n",
       "      <td>1626</td>\n",
       "      <td>291.078568</td>\n",
       "      <td>-12.019174</td>\n",
       "      <td>1.022314</td>\n",
       "      <td>-3.816536</td>\n",
       "      <td>-2.060647</td>\n",
       "      <td>-18.132887</td>\n",
       "    </tr>\n",
       "    <tr>\n",
       "      <th>4</th>\n",
       "      <td>2217219730615749120</td>\n",
       "      <td>1640</td>\n",
       "      <td>321.670835</td>\n",
       "      <td>63.290820</td>\n",
       "      <td>0.753490</td>\n",
       "      <td>-1.670066</td>\n",
       "      <td>-2.527116</td>\n",
       "      <td>-13.702765</td>\n",
       "    </tr>\n",
       "  </tbody>\n",
       "</table>\n",
       "</div>"
      ],
      "text/plain": [
       "             source_id  random_index          ra        dec  parallax  \\\n",
       "0  5945654653855118976          1077  267.457614 -51.241629  0.590209   \n",
       "1  2907611259311229568          1205   84.517262 -27.720603  2.331639   \n",
       "2  1141434876568787584          1340   94.423445  79.702193  0.790480   \n",
       "3  4187550129570302080          1626  291.078568 -12.019174  1.022314   \n",
       "4  2217219730615749120          1640  321.670835  63.290820  0.753490   \n",
       "\n",
       "       pmra      pmdec  radial_velocity  \n",
       "0 -2.561638  -5.680921        -5.695978  \n",
       "1 -0.747300  19.999349       108.246933  \n",
       "2  0.974301   0.824754       -37.580879  \n",
       "3 -3.816536  -2.060647       -18.132887  \n",
       "4 -1.670066  -2.527116       -13.702765  "
      ]
     },
     "execution_count": 5,
     "metadata": {},
     "output_type": "execute_result"
    }
   ],
   "source": [
    "\n",
    "df.head()"
   ]
  },
  {
   "cell_type": "markdown",
   "metadata": {},
   "source": [
    "### 3.2 Visualize in sky"
   ]
  },
  {
   "cell_type": "code",
   "execution_count": 6,
   "metadata": {},
   "outputs": [
    {
     "data": {
      "image/png": "[encoded data removed]",
      "text/plain": [
       "<Figure size 432x288 with 1 Axes>"
      ]
     },
     "metadata": {
      "needs_background": "light"
     },
     "output_type": "display_data"
    }
   ],
   "source": [
    "sources = []\n",
    "for i in df.index:\n",
    "    sources.append(Source(str(i),df['ra'][i], df['dec'][i], df['parallax'][i],\n",
    "                          df['pmra'][i], df['pmdec'][i], df['radial_velocity'][i]))\n",
    "plot_sources_in_sky(sources)"
   ]
  },
  {
   "cell_type": "markdown",
   "metadata": {},
   "source": [
    "# 4.- Scan all sources"
   ]
  },
  {
   "cell_type": "code",
   "execution_count": 7,
   "metadata": {},
   "outputs": [
    {
     "name": "stderr",
     "output_type": "stream",
     "text": [
      "100%|██████████| 10/10 [00:04<00:00,  2.24it/s]\n"
     ]
    }
   ],
   "source": [
    "obs_times = []\n",
    "calc_sources = []\n",
    "real_sources = []\n",
    "\n",
    "# scan the sources and keep as real sources only the ones that are observed\n",
    "for i in trange(len(sources)):\n",
    "    s = sources[i]\n",
    "    my_scanner.scan(gaia, s, ti=t_init, tf=t_end)\n",
    "    my_scanner.compute_angles_eta_zeta(gaia, s)\n",
    "    if len(my_scanner.obs_times)>0:\n",
    "        obs_times += my_scanner.obs_times\n",
    "        real_sources.append(s)\n",
    "        calc_sources.append(Calc_source(obs_times=my_scanner.obs_times.copy(), source=s))\n",
    "sources = real_sources\n",
    "obs_times = list(np.sort(obs_times))"
   ]
  },
  {
   "cell_type": "code",
   "execution_count": 8,
   "metadata": {},
   "outputs": [],
   "source": [
    "# Add noise to the sources\n",
    "noise = np.random.rand(5)*const.rad_per_mas*5\n",
    "noise[2] += 20*const.rad_per_mas\n",
    "for s in calc_sources:\n",
    "    add_noise_to_calc_source(s, noise)"
   ]
  },
  {
   "cell_type": "markdown",
   "metadata": {},
   "source": [
    "# 5.- Source update"
   ]
  },
  {
   "cell_type": "code",
   "execution_count": 9,
   "metadata": {},
   "outputs": [],
   "source": [
    "Solver = Agis(gaia, calc_sources, sources, updating='scanned source', double_telescope=True)"
   ]
  },
  {
   "cell_type": "code",
   "execution_count": 10,
   "metadata": {},
   "outputs": [
    {
     "name": "stdout",
     "output_type": "stream",
     "text": [
      "Not resetting everything! Call again the solver instead\n",
      "***** Iteration: 1 *****\n",
      "Error after iteration: 7.805490380398653e-12\n",
      "***** Iteration: 2 *****\n",
      "Error after iteration: 1.857189031088961e-12\n",
      "***** Iteration: 3 *****\n",
      "Error after iteration: 2.233883174549085e-13\n",
      "***** Iteration: 4 *****\n",
      "Error after iteration: 2.0338287756737597e-14\n",
      "***** Iteration: 5 *****\n",
      "Error after iteration: 1.5735651945813266e-15\n",
      "***** Iteration: 6 *****\n",
      "Error after iteration: 1.0876977808815975e-16\n",
      "***** Iteration: 7 *****\n",
      "Error after iteration: 6.916099092222672e-18\n"
     ]
    }
   ],
   "source": [
    "Solver.reset_iterations()\n",
    "Solver.iterate(7, verbosity=1)"
   ]
  },
  {
   "cell_type": "code",
   "execution_count": 11,
   "metadata": {},
   "outputs": [],
   "source": [
    "# figs = plot_errors_VS_iterations_per_source(Solver);"
   ]
  },
  {
   "cell_type": "code",
   "execution_count": null,
   "metadata": {},
   "outputs": [],
   "source": []
  }
 ],
 "metadata": {
  "kernelspec": {
   "display_name": "Python 3",
   "language": "python",
   "name": "python3"
  },
  "language_info": {
   "codemirror_mode": {
    "name": "ipython",
    "version": 3
   },
   "file_extension": ".py",
   "mimetype": "text/x-python",
   "name": "python",
   "nbconvert_exporter": "python",
   "pygments_lexer": "ipython3",
   "version": "3.6.6"
  }
 },
 "nbformat": 4,
 "nbformat_minor": 2
}
