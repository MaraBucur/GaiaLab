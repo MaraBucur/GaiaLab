{
 "cells": [
  {
   "cell_type": "code",
   "execution_count": 16,
   "metadata": {},
   "outputs": [],
   "source": [
    "import numpy as np\n",
    "import sys\n",
    "import pandas as pd\n",
    "\n",
    "sys.path.append('../../GaiaLab/scan/analytic_scanner')\n",
    "\n",
    "\n",
    "from quaternion_implementation import Quaternion\n",
    "import quaternion\n",
    "import matplotlib\n",
    "from matplotlib import pyplot as plt\n",
    "import agis\n",
    "from agis import Agis\n",
    "from agis import Calc_source\n",
    "from source import Source\n",
    "from satellite import Satellite\n",
    "\n",
    "import time\n",
    "\n"
   ]
  },
  {
   "cell_type": "markdown",
   "metadata": {},
   "source": [
    "# Test for presentation"
   ]
  },
  {
   "cell_type": "code",
   "execution_count": null,
   "metadata": {},
   "outputs": [],
   "source": [
    "t_init = 0\n",
    "t_end = 365\n",
    "gaia = Satellite(t_init, t_end, dt=1/24/10)\n",
    "\n",
    "sirio = Source(\"sirio\", 101.28, -16.7161, 379.21, -546.05, -1223.14, -7.6)\n",
    "vega = Source(\"vega\", 279.2333, 38.78, 128.91, 201.03, 286.23, -13.9)\n",
    "proxima = Source(\"proxima\", 217.42, -62, 768.7, 3775.40, 769.33, 21.7)\n",
    "\n",
    "scanner = Scanner(double_telescope=True) \n",
    "scanner.scan(gaia, sirio, ti=t_init, tf=t_end)\n",
    "\n",
    "calc_sirio = Calc_source(obs_times=scanner.obs_times.copy(), source=sirio)\n",
    "\n",
    "Solver = Agis(gaia, calc_sources, sources, updating='scanned source', double_telescope=True)\n",
    "\n",
    "Solver.iterate(10)"
   ]
  },
  {
   "cell_type": "markdown",
   "metadata": {},
   "source": [
    "# 1.- Compare quaternions"
   ]
  },
  {
   "cell_type": "markdown",
   "metadata": {},
   "source": [
    "### 1.1 compare quaternion initialization"
   ]
  },
  {
   "cell_type": "code",
   "execution_count": 17,
   "metadata": {},
   "outputs": [],
   "source": [
    "v=np.array([0,0,1])\n",
    "a=-np.radians(50)\n",
    "\n",
    "Q = Quaternion(vector=v, angle=a)\n",
    "q = quaternion.from_rotation_vector(v*a)"
   ]
  },
  {
   "cell_type": "code",
   "execution_count": 18,
   "metadata": {},
   "outputs": [
    {
     "data": {
      "text/plain": [
       "Quaternion(0.9063077870366499 + -0.0 i + -0.0 j + -0.42261826174069944 k)"
      ]
     },
     "execution_count": 18,
     "metadata": {},
     "output_type": "execute_result"
    }
   ],
   "source": [
    "Q"
   ]
  },
  {
   "cell_type": "code",
   "execution_count": 19,
   "metadata": {},
   "outputs": [
    {
     "data": {
      "text/plain": [
       "quaternion(0.90630778703665, -0, -0, -0.422618261740699)"
      ]
     },
     "execution_count": 19,
     "metadata": {},
     "output_type": "execute_result"
    }
   ],
   "source": [
    "q"
   ]
  },
  {
   "cell_type": "markdown",
   "metadata": {},
   "source": [
    "# 2.-tests_#2"
   ]
  },
  {
   "cell_type": "code",
   "execution_count": null,
   "metadata": {},
   "outputs": [],
   "source": [
    "a = np.array([[1,2,3,4], [1,2,3,4]])\n",
    "\n",
    "q1 = quaternion.from_float_array(a)\n",
    "print(q1)\n",
    "q2 = Quaternion(1,2,3,4)\n",
    "print(q2)\n",
    "\n",
    "Solver.all_obs_times[0]"
   ]
  },
  {
   "cell_type": "markdown",
   "metadata": {},
   "source": [
    "### 2.1 Timing test"
   ]
  },
  {
   "cell_type": "code",
   "execution_count": 21,
   "metadata": {},
   "outputs": [
    {
     "ename": "NameError",
     "evalue": "name 'time' is not defined",
     "output_type": "error",
     "traceback": [
      "\u001b[0;31m---------------------------------------------------------------------------\u001b[0m",
      "\u001b[0;31mNameError\u001b[0m                                 Traceback (most recent call last)",
      "\u001b[0;32m<ipython-input-21-6806f0bda4e2>\u001b[0m in \u001b[0;36m<module>\u001b[0;34m()\u001b[0m\n\u001b[0;32m----> 1\u001b[0;31m \u001b[0mt0\u001b[0m \u001b[0;34m=\u001b[0m \u001b[0mtime\u001b[0m\u001b[0;34m.\u001b[0m\u001b[0mtime\u001b[0m\u001b[0;34m(\u001b[0m\u001b[0;34m)\u001b[0m\u001b[0;34m\u001b[0m\u001b[0m\n\u001b[0m\u001b[1;32m      2\u001b[0m \u001b[0;32mfor\u001b[0m \u001b[0mt\u001b[0m \u001b[0;32min\u001b[0m \u001b[0mSolver\u001b[0m\u001b[0;34m.\u001b[0m\u001b[0mall_obs_times\u001b[0m\u001b[0;34m:\u001b[0m\u001b[0;34m\u001b[0m\u001b[0m\n\u001b[1;32m      3\u001b[0m     (Quaternion(Solver.attitude_splines[0](t),\n\u001b[1;32m      4\u001b[0m                         \u001b[0mSolver\u001b[0m\u001b[0;34m.\u001b[0m\u001b[0mattitude_splines\u001b[0m\u001b[0;34m[\u001b[0m\u001b[0;36m1\u001b[0m\u001b[0;34m]\u001b[0m\u001b[0;34m(\u001b[0m\u001b[0mt\u001b[0m\u001b[0;34m)\u001b[0m\u001b[0;34m,\u001b[0m\u001b[0;34m\u001b[0m\u001b[0m\n\u001b[1;32m      5\u001b[0m                         \u001b[0mSolver\u001b[0m\u001b[0;34m.\u001b[0m\u001b[0mattitude_splines\u001b[0m\u001b[0;34m[\u001b[0m\u001b[0;36m2\u001b[0m\u001b[0;34m]\u001b[0m\u001b[0;34m(\u001b[0m\u001b[0mt\u001b[0m\u001b[0;34m)\u001b[0m\u001b[0;34m,\u001b[0m\u001b[0;34m\u001b[0m\u001b[0m\n",
      "\u001b[0;31mNameError\u001b[0m: name 'time' is not defined"
     ]
    }
   ],
   "source": [
    "t0 = time.time()\n",
    "for t in Solver.all_obs_times:\n",
    "    (Quaternion(Solver.attitude_splines[0](t),\n",
    "                        Solver.attitude_splines[1](t),\n",
    "                        Solver.attitude_splines[2](t),\n",
    "                        Solver.attitude_splines[3](t)))\n",
    "print('Our implementation: ', time.time()-t0)\n",
    "\n",
    "t0 = time.time()\n",
    "s_w = Solver.attitude_splines[0](Solver.all_obs_times)\n",
    "s_x = gaia.s_x(Solver.all_obs_times)\n",
    "s_y = gaia.s_y(Solver.all_obs_times)\n",
    "s_z = gaia.s_z(Solver.all_obs_times)\n",
    "a = np.array([s_w, s_x, s_y, s_z]).T\n",
    "q1 = quaternion.from_float_array(a)\n",
    "print('mobbles quaternion: ', time.time()-t0)"
   ]
  },
  {
   "cell_type": "code",
   "execution_count": 20,
   "metadata": {},
   "outputs": [
    {
     "name": "stdout",
     "output_type": "stream",
     "text": [
      "[quaternion(1, 2, 3, 4) quaternion(1, 2, 3, 4)]\n",
      "Quaternion(1 + 2 i + 3 j + 4 k)\n"
     ]
    },
    {
     "ename": "NameError",
     "evalue": "name 'Solver' is not defined",
     "output_type": "error",
     "traceback": [
      "\u001b[0;31m---------------------------------------------------------------------------\u001b[0m",
      "\u001b[0;31mNameError\u001b[0m                                 Traceback (most recent call last)",
      "\u001b[0;32m<ipython-input-20-a6605aebb485>\u001b[0m in \u001b[0;36m<module>\u001b[0;34m()\u001b[0m\n\u001b[1;32m      6\u001b[0m \u001b[0mprint\u001b[0m\u001b[0;34m(\u001b[0m\u001b[0mq2\u001b[0m\u001b[0;34m)\u001b[0m\u001b[0;34m\u001b[0m\u001b[0m\n\u001b[1;32m      7\u001b[0m \u001b[0;34m\u001b[0m\u001b[0m\n\u001b[0;32m----> 8\u001b[0;31m \u001b[0mSolver\u001b[0m\u001b[0;34m.\u001b[0m\u001b[0mall_obs_times\u001b[0m\u001b[0;34m[\u001b[0m\u001b[0;36m0\u001b[0m\u001b[0;34m]\u001b[0m\u001b[0;34m\u001b[0m\u001b[0m\n\u001b[0m\u001b[1;32m      9\u001b[0m \u001b[0;34m\u001b[0m\u001b[0m\n\u001b[1;32m     10\u001b[0m \u001b[0;34m\u001b[0m\u001b[0m\n",
      "\u001b[0;31mNameError\u001b[0m: name 'Solver' is not defined"
     ]
    }
   ],
   "source": [
    "q1.shape\n",
    "\n",
    "q1 = quaternion.from_float_array(a)\n",
    "q1.shape\n",
    "\n",
    "q1[0]\n",
    "\n",
    "quaternion.from_float_array(np.array([s_w[0], s_x[0], s_y[0], s_z[0]]))\n",
    "\n",
    "quaternion.as_float_array(q1)\n",
    "\n",
    "tmp_dict = {}\n",
    "for i in range(10):\n",
    "    tmp_dict[i] = i\n",
    "\n",
    "alpha = np.array [1,2,3]\n",
    "delta = np.array [4,5,6]\n",
    "ft.compute_pqr(alpha, delta)\n",
    "\n",
    "gaia.ephemeris_bcrs(np.array([3,4]))\n",
    "\n",
    "v = np.array([2,1,3])\n",
    "v = helpers.normalize(v)\n",
    "angle = np.pi/2\n",
    "print(Quaternion(vector=v, angle=angle) )# .unit()\n",
    "print(quaternion.from_rotation_vector(angle*v))\n",
    "\n",
    "qq = Quaternion(vector=v, angle=angle)\n",
    "qa = quaternion.from_rotation_vector(angle*v)\n",
    "\n",
    "print(qq.to_4D_vector())\n",
    "print(quaternion.as_float_array(qa))\n",
    "\n",
    "\n",
    "\n",
    "\n",
    "\n",
    "\n",
    "\n",
    "\n",
    "\n",
    "a = np.array([[1,2,3], [4,5,6]])\n",
    "np.linalg.norm(a, axis=1)\n",
    "\n",
    "a.shape\n",
    "\n",
    "b = np.array([1,2,3])\n",
    "b = b.reshape(-1,3)\n",
    "np.linalg.norm(b, axis=1)\n",
    "\n",
    "len(a.shape)\n",
    "\n",
    "q2 = np.quaternion(1,2,3,4)\n",
    "q3 = np.quaternion(5,2,3,4)\n",
    "\n",
    "q2.normalized()\n",
    "\n",
    "q2\n",
    "\n",
    "q3*q2\n",
    "\n",
    "np.quaternion.conj()\n",
    "\n",
    "quaternion.as_float_array(q3)\n",
    "\n",
    "quaternion.as_rotation_vector(q3)\n",
    "\n",
    "q3*(quaternion.z + quaternion.y + quaternion.x)\n",
    "\n",
    "quaternion.as_float_array(q4)\n",
    "\n",
    "ft.quat_to_vector(q4)\n",
    "\n",
    "q3.normalized()\n",
    "\n",
    "np.quaternion.absolute(q5)\n",
    "\n",
    "quaternion.rotate_vectors()\n",
    "\n",
    "np.quaternion(1,2,3,4).normalized()\n",
    "\n",
    "q2 = q2.normalized()\n",
    "\n",
    "np.quaternion.inverse(q2)\n",
    "\n",
    "np.quaternion.conjugate(q2)\n",
    "\n",
    "Quaternion(1,2,3,4).reciprocal()"
   ]
  },
  {
   "cell_type": "code",
   "execution_count": null,
   "metadata": {},
   "outputs": [],
   "source": []
  },
  {
   "cell_type": "code",
   "execution_count": null,
   "metadata": {},
   "outputs": [],
   "source": []
  }
 ],
 "metadata": {
  "kernelspec": {
   "display_name": "Python 3",
   "language": "python",
   "name": "python3"
  },
  "language_info": {
   "codemirror_mode": {
    "name": "ipython",
    "version": 3
   },
   "file_extension": ".py",
   "mimetype": "text/x-python",
   "name": "python",
   "nbconvert_exporter": "python",
   "pygments_lexer": "ipython3",
   "version": "3.6.6"
  }
 },
 "nbformat": 4,
 "nbformat_minor": 2
}
