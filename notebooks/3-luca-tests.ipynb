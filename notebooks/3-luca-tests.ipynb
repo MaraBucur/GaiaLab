{
 "cells": [
  {
   "cell_type": "code",
   "execution_count": 1,
   "metadata": {
    "scrolled": true
   },
   "outputs": [],
   "source": [
    "# Module import\n",
    "from IPython.display import Image\n",
    "import sys\n",
    "import pandas as pd\n",
    "\n",
    "# To use interact -- IPython widget\n",
    "from __future__ import print_function\n",
    "from ipywidgets import interact, interactive, fixed, interact_manual\n",
    "import ipywidgets as widgets\n",
    "\n",
    "\n",
    "# append to path the folder that contains the analytic scanner\n",
    "sys.path.append('../GaiaLab/scan/analytic_scanner')\n",
    "# local imports\n",
    "#from gaia_analytic_toymodel import *\n",
    "import gaia_analytic_toymodel as gat\n",
    "#from gaia_analytic_toymodel import Scanner\n",
    "#from gaia_analytic_toymodel import Attitude\n",
    "#from gaia_analytic_toymodel import Source\n",
    "import constants as const\n",
    "import frame_transformations as ft\n",
    "\n",
    "from analytic_plots import *\n",
    "\n",
    "# Ipython magics\n",
    "%load_ext autoreload\n",
    "%autoreload 2\n",
    "# %matplotlib notebook \n",
    "\n",
    "# Set some user-specific variables\n",
    "# MAIN_FOLDER = '../' # relative path to project folder\n",
    "# FIG_FOLDER = 'figures/' # relative path to figure"
   ]
  },
  {
   "cell_type": "markdown",
   "metadata": {},
   "source": [
    "# 1. Scanner Object"
   ]
  },
  {
   "cell_type": "code",
   "execution_count": 2,
   "metadata": {
    "scrolled": true
   },
   "outputs": [],
   "source": [
    "# # create all the objects we will need:\n",
    "# parameters\n",
    "tf_gen = 100\n",
    "my_dt = 1/24 # [days]\n",
    "\n",
    "# objects\n",
    "gaia = gat.Attitude(ti=0, tf=tf_gen, dt= my_dt)\n",
    "\n",
    "sirio = gat.Source(\"sirio\", 101.28, -16.7161, 379.21, -546.05, -1223.14, -7.6)\n",
    "\n",
    "scanSirio = gat.Scanner() # np.radians(5), np.radians(1)"
   ]
  },
  {
   "cell_type": "code",
   "execution_count": 3,
   "metadata": {
    "scrolled": true
   },
   "outputs": [
    {
     "ename": "AttributeError",
     "evalue": "module 'frame_transformations' has no attribute 'to_lmn'",
     "output_type": "error",
     "traceback": [
      "\u001b[0;31m---------------------------------------------------------------------------\u001b[0m",
      "\u001b[0;31mAttributeError\u001b[0m                            Traceback (most recent call last)",
      "\u001b[0;32m<ipython-input-3-5c5df3aa78a7>\u001b[0m in \u001b[0;36m<module>\u001b[0;34m()\u001b[0m\n\u001b[0;32m----> 1\u001b[0;31m \u001b[0mft\u001b[0m\u001b[0;34m.\u001b[0m\u001b[0mto_lmn\u001b[0m\u001b[0;34m\u001b[0m\u001b[0m\n\u001b[0m",
      "\u001b[0;31mAttributeError\u001b[0m: module 'frame_transformations' has no attribute 'to_lmn'"
     ]
    }
   ],
   "source": [
    "ft.to_lmn"
   ]
  },
  {
   "cell_type": "code",
   "execution_count": null,
   "metadata": {},
   "outputs": [],
   "source": [
    "np.array"
   ]
  },
  {
   "cell_type": "code",
   "execution_count": null,
   "metadata": {},
   "outputs": [],
   "source": [
    "gaia"
   ]
  },
  {
   "cell_type": "code",
   "execution_count": null,
   "metadata": {
    "scrolled": false
   },
   "outputs": [],
   "source": [
    "myTime = 50\n",
    "plot_3D_scanner_pos(gaia, 'X', 0, myTime, 1000, elevation=30, azimuth=30)\n",
    "#plot_3D_scanner_pos(gaia, 'Z', 0, myTime, 1000)\n",
    "def my_func(elev, azim):\n",
    "    plot_3D_scanner_pos(gaia, 'X', 0, myTime, 1000, elevation=elev, azimuth=azim)\n",
    "# interact(my_func, elev=widgets.IntSlider(min=0,max=90,step=1,value=20),\n",
    "#         azim=widgets.IntSlider(min=0,max=90,step=1,value=20))"
   ]
  },
  {
   "cell_type": "markdown",
   "metadata": {},
   "source": [
    "Now we plot the time evolution of the attitude components, begining at $t=0$ up to $t=80$ days. \n"
   ]
  },
  {
   "cell_type": "markdown",
   "metadata": {},
   "source": [
    "# 2. Source detection"
   ]
  },
  {
   "cell_type": "markdown",
   "metadata": {},
   "source": [
    "Create three example stars from real data. The Source object takes as inputs:\n",
    "\n",
    "> Source('name', $\\alpha$, $\\delta$, parallax, $\\mu_{\\alpha}$, $\\mu_{\\delta}$, $\\mu_{r}$)\n",
    "\n",
    "with units: [string, deg, deg, mas, mas/yr, mas/yr, km/s]\n",
    "\n"
   ]
  },
  {
   "cell_type": "markdown",
   "metadata": {},
   "source": [
    "Once the satellite and its correspondent attitude object is created, we need to create a scanner. At the moment, the scaner is only able to perform the search of one single star in the sky. \n",
    "\n",
    "The scanner takes in two parameters. The first does a scan of the sky taking the dot product of the x-axis of the scanner (with respect to the LMN-frame) and the star's position (also in LMN). Since the scanning law has an almost perfect coverage of the sky (would be interesting to do a density plot of where it scans more in the future), it selects the times when the star is in this circle field of view. For this example we set it to 20 deg. The second input parameters sets the z-axis value threshold for the scanner ccd dimentions. That is to say, the height of the scanning line that swaps the sky. "
   ]
  },
  {
   "cell_type": "markdown",
   "metadata": {},
   "source": [
    "## 2.1 Sirio"
   ]
  },
  {
   "cell_type": "markdown",
   "metadata": {},
   "source": [
    "Firstly, the coarse scan is performed, using the desire satellite and the star that we want to scan.\n",
    "Secondly, we search for the optimized solutions with the fine scan, which uses the data from the coarse scan."
   ]
  },
  {
   "cell_type": "code",
   "execution_count": null,
   "metadata": {},
   "outputs": [],
   "source": []
  },
  {
   "cell_type": "code",
   "execution_count": 4,
   "metadata": {
    "scrolled": false
   },
   "outputs": [],
   "source": [
    "\n",
    "\n",
    "#Plot of the star trayectory from G-frame \n",
    "#(i.e. at a point moment around the sun in ecliptic plane in circular orbit of 1 AU).\n",
    "#plot_stars_trajectory(sirio, gaia)"
   ]
  },
  {
   "cell_type": "code",
   "execution_count": 5,
   "metadata": {
    "scrolled": false
   },
   "outputs": [],
   "source": [
    "#plot_stars_trajectory_3D(sirio, gaia)"
   ]
  },
  {
   "cell_type": "code",
   "execution_count": 6,
   "metadata": {},
   "outputs": [
    {
     "data": {
      "text/plain": [
       "[100.00000000000263,\n",
       " array([20.00505509, 16.12604311, 43.20141243]),\n",
       " array([0.3987803 , 0.31967597, 0.85952403]),\n",
       " array([-0.89219699, -0.08073285,  0.44437229]),\n",
       " Quaternion(-0.07582504353481972 + 0.21943579322921408 i + 0.14822286795406456 j + 0.9613160129937819 k),\n",
       " array([-0.1500554 ,  0.90709395,  0.39327336])]"
      ]
     },
     "execution_count": 6,
     "metadata": {},
     "output_type": "execute_result"
    }
   ],
   "source": [
    "gaia.storage[-1]"
   ]
  },
  {
   "cell_type": "code",
   "execution_count": 7,
   "metadata": {},
   "outputs": [
    {
     "data": {
      "text/plain": [
       "100.00000000000263"
      ]
     },
     "execution_count": 7,
     "metadata": {},
     "output_type": "execute_result"
    }
   ],
   "source": [
    "gaia.storage[-1][0]"
   ]
  },
  {
   "cell_type": "code",
   "execution_count": null,
   "metadata": {},
   "outputs": [],
   "source": []
  },
  {
   "cell_type": "code",
   "execution_count": 8,
   "metadata": {
    "scrolled": false
   },
   "outputs": [],
   "source": [
    "# plot_phi(sirio, gaia, ti=0, tf=90, n=10000)\n",
    "\n",
    "def myFunc(day):\n",
    "    p = plot_eta_over_phi_day(source=sirio, att=gaia, ti=0, tf=90, day=day)\n",
    "\n",
    "#interact(myFunc, day=(0,90))"
   ]
  },
  {
   "cell_type": "markdown",
   "metadata": {},
   "source": [
    "#### Now the scanner"
   ]
  },
  {
   "cell_type": "code",
   "execution_count": 9,
   "metadata": {},
   "outputs": [],
   "source": [
    "def lala(x):\n",
    "    print(x)"
   ]
  },
  {
   "cell_type": "code",
   "execution_count": null,
   "metadata": {},
   "outputs": [],
   "source": []
  },
  {
   "cell_type": "code",
   "execution_count": 10,
   "metadata": {},
   "outputs": [
    {
     "name": "stdout",
     "output_type": "stream",
     "text": [
      "Starting wide_coarse_double_scan with time from 0 to 300 days\n",
      "wide scan lasted 3.1506636142730713 seconds\n",
      "Found 14381 times with wide scan\n",
      "Coarse scan lasted 18.566460132598877 seconds\n",
      "Found 36 times with coarse scan\n",
      "Finished wide_coarse_double_scan!\n",
      "Starting fine_scan:\n",
      "phi_minimization lasted 0.39096784591674805 seconds\n",
      "wide scan lasted 0.008640289306640625 seconds\n",
      "original obs_times: [9.586563912509565, 9.83656557570901, 10.086569543019111, 41.05003441013378, 41.800025355700846, 89.43814051541698]\n",
      "identical duplicates removal obs_time: [9.586563912509565, 10.086569543019111, 41.800025355700846, 9.83656557570901, 41.05003441013378, 89.43814051541698]\n",
      "Finished fine_scan!\n"
     ]
    }
   ],
   "source": [
    "scanSirio.start(gaia, sirio, ti=0, tf=300)"
   ]
  },
  {
   "cell_type": "code",
   "execution_count": 75,
   "metadata": {},
   "outputs": [],
   "source": [
    "dd = dict(a=1,b=3)"
   ]
  },
  {
   "cell_type": "code",
   "execution_count": 76,
   "metadata": {},
   "outputs": [],
   "source": [
    "gat.test_object_type(sirio,\"Source\")"
   ]
  },
  {
   "cell_type": "code",
   "execution_count": 24,
   "metadata": {},
   "outputs": [
    {
     "data": {
      "text/plain": [
       "[9.086805555555552,\n",
       " 9.335069444444441,\n",
       " 9.336805555555552,\n",
       " 9.585069444444441,\n",
       " 9.586805555555552,\n",
       " 9.835069444444441,\n",
       " 9.836805555555552,\n",
       " 10.086805555555552,\n",
       " 41.05034722222222,\n",
       " 41.29861111111111,\n",
       " 41.30034722222222,\n",
       " 41.54861111111111,\n",
       " 41.55034722222222,\n",
       " 41.79861111111111,\n",
       " 41.80034722222222,\n",
       " 42.05034722222222,\n",
       " 88.4375,\n",
       " 88.6875,\n",
       " 88.68923611111111,\n",
       " 88.9375,\n",
       " 88.93923611111111,\n",
       " 89.1875,\n",
       " 89.18923611111111,\n",
       " 89.4375,\n",
       " 89.43923611111111,\n",
       " 89.6875,\n",
       " 89.68923611111111,\n",
       " 89.9375,\n",
       " 89.93923611111111,\n",
       " 90.1875,\n",
       " 90.18923611111111,\n",
       " 90.4375,\n",
       " 99.43576388888891,\n",
       " 99.6857638888889,\n",
       " 99.9357638888889,\n",
       " 99.9375]"
      ]
     },
     "execution_count": 24,
     "metadata": {},
     "output_type": "execute_result"
    }
   ],
   "source": [
    "scanSirio.times_coarse_scan"
   ]
  },
  {
   "cell_type": "code",
   "execution_count": 11,
   "metadata": {
    "scrolled": true
   },
   "outputs": [
    {
     "name": "stdout",
     "output_type": "stream",
     "text": [
      "How many observation time?  6\n",
      "How many roots?  6\n"
     ]
    },
    {
     "data": {
      "text/html": [
       "<div>\n",
       "<style scoped>\n",
       "    .dataframe tbody tr th:only-of-type {\n",
       "        vertical-align: middle;\n",
       "    }\n",
       "\n",
       "    .dataframe tbody tr th {\n",
       "        vertical-align: top;\n",
       "    }\n",
       "\n",
       "    .dataframe thead th {\n",
       "        text-align: right;\n",
       "    }\n",
       "</style>\n",
       "<table border=\"1\" class=\"dataframe\">\n",
       "  <thead>\n",
       "    <tr style=\"text-align: right;\">\n",
       "      <th></th>\n",
       "      <th>fjac</th>\n",
       "      <th>fun</th>\n",
       "      <th>message</th>\n",
       "      <th>nfev</th>\n",
       "      <th>qtf</th>\n",
       "      <th>r</th>\n",
       "      <th>status</th>\n",
       "      <th>success</th>\n",
       "      <th>x</th>\n",
       "    </tr>\n",
       "  </thead>\n",
       "  <tbody>\n",
       "    <tr>\n",
       "      <th>0</th>\n",
       "      <td>[[-1.0]]</td>\n",
       "      <td>2.156825e-14</td>\n",
       "      <td>The solution converged.</td>\n",
       "      <td>5</td>\n",
       "      <td>[-1.4804747570018248e-09]</td>\n",
       "      <td>[25.130627829295175]</td>\n",
       "      <td>1</td>\n",
       "      <td>True</td>\n",
       "      <td>[9.586563912509565]</td>\n",
       "    </tr>\n",
       "    <tr>\n",
       "      <th>1</th>\n",
       "      <td>[[-1.0]]</td>\n",
       "      <td>1.976197e-14</td>\n",
       "      <td>The solution converged.</td>\n",
       "      <td>5</td>\n",
       "      <td>[-4.284941342719284e-09]</td>\n",
       "      <td>[25.125185688532177]</td>\n",
       "      <td>1</td>\n",
       "      <td>True</td>\n",
       "      <td>[9.83656557570901]</td>\n",
       "    </tr>\n",
       "    <tr>\n",
       "      <th>2</th>\n",
       "      <td>[[-1.0]]</td>\n",
       "      <td>7.427219e-15</td>\n",
       "      <td>The solution converged.</td>\n",
       "      <td>5</td>\n",
       "      <td>[-6.6902396816947984e-09]</td>\n",
       "      <td>[-25.112885303921395]</td>\n",
       "      <td>1</td>\n",
       "      <td>True</td>\n",
       "      <td>[10.086569543019111]</td>\n",
       "    </tr>\n",
       "    <tr>\n",
       "      <th>3</th>\n",
       "      <td>[[-1.0]]</td>\n",
       "      <td>5.087424e-14</td>\n",
       "      <td>The solution converged.</td>\n",
       "      <td>5</td>\n",
       "      <td>[-1.57980008415326e-08]</td>\n",
       "      <td>[-25.1144525136948]</td>\n",
       "      <td>1</td>\n",
       "      <td>True</td>\n",
       "      <td>[41.05003441013378]</td>\n",
       "    </tr>\n",
       "    <tr>\n",
       "      <th>4</th>\n",
       "      <td>[[-1.0]]</td>\n",
       "      <td>2.398559e-14</td>\n",
       "      <td>The solution converged.</td>\n",
       "      <td>5</td>\n",
       "      <td>[-1.0116793501026289e-09]</td>\n",
       "      <td>[-25.13018483840637]</td>\n",
       "      <td>1</td>\n",
       "      <td>True</td>\n",
       "      <td>[41.800025355700846]</td>\n",
       "    </tr>\n",
       "    <tr>\n",
       "      <th>5</th>\n",
       "      <td>[[-1.0]]</td>\n",
       "      <td>6.043532e-14</td>\n",
       "      <td>The solution converged.</td>\n",
       "      <td>5</td>\n",
       "      <td>[-2.5322287076833673e-09]</td>\n",
       "      <td>[-25.13482342532333]</td>\n",
       "      <td>1</td>\n",
       "      <td>True</td>\n",
       "      <td>[89.43814051541698]</td>\n",
       "    </tr>\n",
       "  </tbody>\n",
       "</table>\n",
       "</div>"
      ],
      "text/plain": [
       "       fjac           fun                  message  nfev  \\\n",
       "0  [[-1.0]]  2.156825e-14  The solution converged.     5   \n",
       "1  [[-1.0]]  1.976197e-14  The solution converged.     5   \n",
       "2  [[-1.0]]  7.427219e-15  The solution converged.     5   \n",
       "3  [[-1.0]]  5.087424e-14  The solution converged.     5   \n",
       "4  [[-1.0]]  2.398559e-14  The solution converged.     5   \n",
       "5  [[-1.0]]  6.043532e-14  The solution converged.     5   \n",
       "\n",
       "                         qtf                      r  status  success  \\\n",
       "0  [-1.4804747570018248e-09]   [25.130627829295175]       1     True   \n",
       "1   [-4.284941342719284e-09]   [25.125185688532177]       1     True   \n",
       "2  [-6.6902396816947984e-09]  [-25.112885303921395]       1     True   \n",
       "3    [-1.57980008415326e-08]    [-25.1144525136948]       1     True   \n",
       "4  [-1.0116793501026289e-09]   [-25.13018483840637]       1     True   \n",
       "5  [-2.5322287076833673e-09]   [-25.13482342532333]       1     True   \n",
       "\n",
       "                      x  \n",
       "0   [9.586563912509565]  \n",
       "1    [9.83656557570901]  \n",
       "2  [10.086569543019111]  \n",
       "3   [41.05003441013378]  \n",
       "4  [41.800025355700846]  \n",
       "5   [89.43814051541698]  "
      ]
     },
     "execution_count": 11,
     "metadata": {},
     "output_type": "execute_result"
    }
   ],
   "source": [
    "print('How many observation time?  {}'.format(len(scanSirio.obs_times)))\n",
    "print('How many roots?  {}'.format(len(scanSirio.roots)))\n",
    "pd.DataFrame(scanSirio.roots)"
   ]
  },
  {
   "cell_type": "code",
   "execution_count": null,
   "metadata": {},
   "outputs": [],
   "source": [
    "plt.title"
   ]
  },
  {
   "cell_type": "code",
   "execution_count": 53,
   "metadata": {},
   "outputs": [
    {
     "name": "stdout",
     "output_type": "stream",
     "text": [
      "[]\n",
      "[]\n",
      "[]\n",
      "[]\n",
      "[]\n",
      "[1.7642875284560267, 1.759231762779367, 1.7676950502035769, 1.7619789400918844, 1.7675995448139865] \n",
      "  -----  \n",
      " [-0.2860827764647311, -0.27819609775296295, -0.2916328695849204, -0.29447207613061344, -0.2914800787750691]\n"
     ]
    },
    {
     "data": {
      "image/png": "[encoded data removed]",
      "text/plain": [
       "<Figure size 1152x576 with 2 Axes>"
      ]
     },
     "metadata": {},
     "output_type": "display_data"
    }
   ],
   "source": [
    "p = plot_prediction_VS_reality(sirio, gaia, scanSirio)"
   ]
  },
  {
   "cell_type": "code",
   "execution_count": 38,
   "metadata": {},
   "outputs": [
    {
     "data": {
      "image/png": "[encoded data removed]",
      "text/plain": [
       "<Figure size 432x288 with 2 Axes>"
      ]
     },
     "metadata": {},
     "output_type": "display_data"
    }
   ],
   "source": [
    "fig, axs = plt.subplots(1, 2)\n",
    "axs[0] = p\n"
   ]
  },
  {
   "cell_type": "code",
   "execution_count": 15,
   "metadata": {
    "scrolled": true
   },
   "outputs": [
    {
     "data": {
      "image/png": "[encoded data removed]",
      "text/plain": [
       "<Figure size 432x288 with 1 Axes>"
      ]
     },
     "metadata": {},
     "output_type": "display_data"
    }
   ],
   "source": [
    "plot_observations(sirio, gaia, scanSirio)"
   ]
  },
  {
   "cell_type": "code",
   "execution_count": 18,
   "metadata": {
    "scrolled": true
   },
   "outputs": [],
   "source": [
    "def my_func(tf):\n",
    "    scanSirio.start(gaia, sirio, tf=tf)\n",
    "    plot_observations(sirio, gaia, scanSirio)\n",
    "#interact(my_func, tf=widgets.IntSlider(min=0,max=1500,step=100,value=100))"
   ]
  },
  {
   "cell_type": "markdown",
   "metadata": {},
   "source": [
    "The red dots represent the calculated position of the observations. The yellow bars are the erros in the z-axis of the scanner for each position-observation, and the green ones the error bars for the y-axis of the scanner."
   ]
  },
  {
   "cell_type": "code",
   "execution_count": null,
   "metadata": {},
   "outputs": [],
   "source": []
  }
 ],
 "metadata": {
  "kernelspec": {
   "display_name": "Python 3",
   "language": "python",
   "name": "python3"
  },
  "language_info": {
   "codemirror_mode": {
    "name": "ipython",
    "version": 3
   },
   "file_extension": ".py",
   "mimetype": "text/x-python",
   "name": "python",
   "nbconvert_exporter": "python",
   "pygments_lexer": "ipython3",
   "version": "3.6.5"
  }
 },
 "nbformat": 4,
 "nbformat_minor": 2
}
