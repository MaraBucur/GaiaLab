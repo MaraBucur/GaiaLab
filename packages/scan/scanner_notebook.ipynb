{
 "cells": [
  {
   "cell_type": "code",
   "execution_count": 44,
   "metadata": {},
   "outputs": [],
   "source": [
    "from scanner import*"
   ]
  },
  {
   "cell_type": "markdown",
   "metadata": {},
   "source": [
    "# Scanner: Theory"
   ]
  },
  {
   "cell_type": "markdown",
   "metadata": {},
   "source": [
    "Model of a simple stalletie that scans the sky. The satellite is defined as a plane in space. This means that for any star contained in that plane or within a tolerance-angle of the plane, the star be detected and stored as measurements.\n",
    "\n",
    "The Satellite's plane is uniquely defined by a point and a vector. Their are in the $\\textbf{Baryentric Celestial Reference Frame (BCRS)}$ whose spatial axes are aligned with the International Celestial Reference System. This means that the satellite's zaxis is the normal vector to the satellite-plane with respect to BCRS.\n",
    "\n",
    "The observations made by the scanner will be in the $\\textbf{Scanning Reference System (SRS)}$.\n",
    "\n",
    "Before the scanning takes plance, it is necessary to create a collection of stars or 'fake sky'. For now, all stars will be at a constant distance from the satellite (i.e. no parallax defined) and so they will all lie in the unit sphere surface. Stars are defined acoording to the $\\textbf{Horizontal Coordinate System (HCS)}$. This system uses the observer's local horizon as the fundamental plane. It is expressed in terms of azimuth and altitude angles.\n",
    "<img src=\"HCS.png\" style='width:10'>\n",
    "\n",
    "\n",
    "For rotations and change of reference a simple approach is by the using quaternions. For completeness, we include here the quaternion definition: \n",
    "\n",
    "$$\n",
    "\\begin{equation*}\n",
    "\\vec{q} =  \\big\\{ \\cos(\\frac{\\beta}{2}), \\vec{u}_{x}\\sin(\\frac{\\beta}{2}),\\vec{u}_{y}\\sin(\\frac{\\beta}{2}), \\vec{u}_{z}\\sin(\\frac{\\beta}{2}) \\big\\}\n",
    "\\end{equation*}\n",
    "$$\n",
    "Where $\\beta$ is the angle of rotation around the $\\vec{u}$ axis. \n",
    "\n",
    "The satellite's attitude is described by a quaternion $\\it{q}$. Using the satellite attitude, the transformation between the coordinates of an arbitrary vector $\\it{v}$ from  $\\it{BCRS}$ to $\\it{SRS}$ is defined by: \n",
    "$$\n",
    "\\begin{equation}\n",
    "\\big\\{\\textbf{S}'\\it{v},0 \\big\\} = \\text{q}^{-1}\\big\\{\\textbf{C}'\\it{v}, 0\\big\\}\\text{q}.\n",
    "\\end{equation}\n",
    "$$\n",
    "\n",
    "Therefore when SRS is not alinged with BCRS the measured angles to a star will differ. \n",
    "The  angles following the HCS are denoted as:\n",
    "\n",
    "* From the SRS: $(\\phi, \\zeta)$\n",
    "* From the BCRS: $(\\alpha, \\delta)$\n",
    "\n",
    "The cartesian vector correspondient to these angles is: \n",
    "\\begin{equation*}\n",
    "\\big\\{\\textbf{S}'\\it{v},0 \\big\\}  =  \\begin{vmatrix}\n",
    "\\cos(\\zeta)\\cos(\\phi) \\\\\n",
    "\\cos(\\zeta)\\sin(\\phi)\\\\\n",
    "\\sin(\\phi)\n",
    "\\end{vmatrix}\n",
    "\\end{equation*}\n",
    "\n",
    "And the computed angles from the vectors:\n",
    "\n",
    "\\begin{equation*}\n",
    "\\phi  =  \\arctan(v_{y},v_{x}) \n",
    "\\end{equation*}\n",
    "\n",
    "\\begin{equation*}\n",
    "\\zeta =  \\arctan(v_{z}, \\sqrt{v^{2}_{x} + v^{2}_{y}}) \n",
    "\\end{equation*}\n"
   ]
  },
  {
   "cell_type": "markdown",
   "metadata": {},
   "source": [
    "# Code: Step by step "
   ]
  },
  {
   "cell_type": "markdown",
   "metadata": {},
   "source": [
    "A) Satellite class creates an object with several functions and attributes. To initizalise it, it is necessaty to input the intial position of the satellite in the sky:\n",
    "* Normal vector $\\vec{n}$ to the satellite plane.\n",
    "* Origin point $\\textbf{O}$ in $\\\\R^{3}$\n",
    "\n",
    "This defines the satellite plane: $\\Pi$. \n",
    "\n",
    "Satellite takes therefore as arguments the $\\vec{n}$ components and the geometric object $\\textbf{O}$."
   ]
  },
  {
   "cell_type": "code",
   "execution_count": 45,
   "metadata": {},
   "outputs": [],
   "source": [
    "gaia = Satellite(0,0,1, Point3D(0,0,0))"
   ]
  },
  {
   "cell_type": "markdown",
   "metadata": {},
   "source": [
    "B) Create a sky, with n=100 elements. Sky is an object that creates n number of objects named 'Observation'. This means sky.elements contains n Observation objects. \n",
    "* sky.elements cointains n <__main__.Observation> instances. \n",
    "    * Observation.coor: $(\\alpha, \\delta)$ (in radians)\n",
    "    * Observation.vector: cartesian vector of HCS Observation.coor, $\\vec{v} = (x,y,z)$ in BCRS. "
   ]
  },
  {
   "cell_type": "code",
   "execution_count": 52,
   "metadata": {},
   "outputs": [],
   "source": [
    "sky = Sky(100)"
   ]
  },
  {
   "cell_type": "code",
   "execution_count": 53,
   "metadata": {},
   "outputs": [
    {
     "data": {
      "text/plain": [
       "array([1.060873  , 1.11527663])"
      ]
     },
     "execution_count": 53,
     "metadata": {},
     "output_type": "execute_result"
    }
   ],
   "source": [
    "sky.elements[1].coor"
   ]
  },
  {
   "cell_type": "code",
   "execution_count": 54,
   "metadata": {},
   "outputs": [
    {
     "data": {
      "text/plain": [
       "array([0.21473393, 0.38396215, 0.89803252])"
      ]
     },
     "execution_count": 54,
     "metadata": {},
     "output_type": "execute_result"
    }
   ],
   "source": [
    "sky.elements[1].vector "
   ]
  },
  {
   "cell_type": "markdown",
   "metadata": {},
   "source": [
    "C) Call satellite.Scan(sky) function to scan sky. Because no rotation has been applied to the satellite yet, the SRS and BCRS frames coincide. \n",
    "The satellite.Scan function has args to change the characteristics of the scan. \n",
    "* $\\textbf{satellite.Scan(sky, zeta , phi, deltaphi)}$: \n",
    "    - Altitude angle, zeta ($\\zeta$): the altitude width to scan,  with respect to the satellite plane: $\\Pi$.\n",
    "    - Azimuth angle, phi ($\\phi$) :total amount of radians swept by the scanner, in a circle of constant radius around the satellite's centre $\\textbf{O}$.\n",
    "    - Delta Phi, $\\Delta \\phi$: step at which the scanning phi changes. \n"
   ]
  },
  {
   "cell_type": "code",
   "execution_count": 55,
   "metadata": {},
   "outputs": [],
   "source": [
    "gaia.Scan(sky,np.radians(5.), np.radians(360.), np.radians(1.))"
   ]
  },
  {
   "cell_type": "markdown",
   "metadata": {},
   "source": [
    "Once the scanning has been done, the observations that were in the scan field of view are stored in satellite.observations as instances. Because the scanner plane is normal to the BCRS z axis, only the stars in the XY plane have been seen, which explains the zero component of the $\\zeta$ angle. "
   ]
  },
  {
   "cell_type": "code",
   "execution_count": 56,
   "metadata": {},
   "outputs": [
    {
     "data": {
      "text/plain": [
       "[<scanner.Observation at 0x111e4af28>]"
      ]
     },
     "execution_count": 56,
     "metadata": {},
     "output_type": "execute_result"
    }
   ],
   "source": [
    "gaia.observations"
   ]
  },
  {
   "cell_type": "code",
   "execution_count": 57,
   "metadata": {},
   "outputs": [
    {
     "ename": "IndexError",
     "evalue": "list index out of range",
     "output_type": "error",
     "traceback": [
      "\u001b[0;31m---------------------------------------------------------------------------\u001b[0m",
      "\u001b[0;31mIndexError\u001b[0m                                Traceback (most recent call last)",
      "\u001b[0;32m<ipython-input-57-c9c1c281becb>\u001b[0m in \u001b[0;36m<module>\u001b[0;34m()\u001b[0m\n\u001b[0;32m----> 1\u001b[0;31m \u001b[0mgaia\u001b[0m\u001b[0;34m.\u001b[0m\u001b[0mobservations\u001b[0m\u001b[0;34m[\u001b[0m\u001b[0;36m1\u001b[0m\u001b[0;34m]\u001b[0m\u001b[0;34m.\u001b[0m\u001b[0mcoor\u001b[0m\u001b[0;34m,\u001b[0m \u001b[0mgaia\u001b[0m\u001b[0;34m.\u001b[0m\u001b[0mobservations\u001b[0m\u001b[0;34m[\u001b[0m\u001b[0;36m2\u001b[0m\u001b[0;34m]\u001b[0m\u001b[0;34m.\u001b[0m\u001b[0mcoor\u001b[0m\u001b[0;34m\u001b[0m\u001b[0m\n\u001b[0m",
      "\u001b[0;31mIndexError\u001b[0m: list index out of range"
     ]
    }
   ],
   "source": [
    "gaia.observations[1].coor, gaia.observations[2].coor"
   ]
  },
  {
   "cell_type": "code",
   "execution_count": 58,
   "metadata": {},
   "outputs": [
    {
     "data": {
      "image/png": "[encoded data removed]",
      "text/plain": [
       "<Figure size 432x288 with 1 Axes>"
      ]
     },
     "metadata": {},
     "output_type": "display_data"
    }
   ],
   "source": [
    "Plot(gaia, sky)"
   ]
  },
  {
   "cell_type": "markdown",
   "metadata": {},
   "source": [
    "Before proceeding, need a quaternion that defines a rotation to apply to the satellite. "
   ]
  },
  {
   "cell_type": "code",
   "execution_count": 59,
   "metadata": {},
   "outputs": [],
   "source": [
    "qrot = Quaternion(1,2,3,-2)"
   ]
  },
  {
   "cell_type": "code",
   "execution_count": 60,
   "metadata": {},
   "outputs": [
    {
     "data": {
      "text/plain": [
       "(array([0., 0., 1.]), Quaternion(1.0 + 0.0 i + 0.0 j + 0.0 k))"
      ]
     },
     "execution_count": 60,
     "metadata": {},
     "output_type": "execute_result"
    }
   ],
   "source": [
    "gaia.zaxis, gaia.attitude"
   ]
  },
  {
   "cell_type": "code",
   "execution_count": 61,
   "metadata": {},
   "outputs": [],
   "source": [
    "gaia.Rotate(qrot)"
   ]
  },
  {
   "cell_type": "code",
   "execution_count": 62,
   "metadata": {},
   "outputs": [
    {
     "data": {
      "text/plain": [
       "(array([-0.77777778, -0.44444444, -0.44444444]),\n",
       " Quaternion(0.23570226039551587 + 0.47140452079103173 i + 0.7071067811865476 j + -0.47140452079103173 k))"
      ]
     },
     "execution_count": 62,
     "metadata": {},
     "output_type": "execute_result"
    }
   ],
   "source": [
    "gaia.zaxis, gaia.attitude"
   ]
  },
  {
   "cell_type": "code",
   "execution_count": 63,
   "metadata": {},
   "outputs": [],
   "source": [
    "gaia.Scan(sky)"
   ]
  },
  {
   "cell_type": "code",
   "execution_count": 65,
   "metadata": {},
   "outputs": [
    {
     "data": {
      "text/plain": [
       "[<scanner.Observation at 0x11e38bcf8>,\n",
       " <scanner.Observation at 0x119fd4630>,\n",
       " <scanner.Observation at 0x11a02f518>,\n",
       " <scanner.Observation at 0x11e235ba8>,\n",
       " <scanner.Observation at 0x11e235dd8>]"
      ]
     },
     "execution_count": 65,
     "metadata": {},
     "output_type": "execute_result"
    }
   ],
   "source": [
    "gaia.observations"
   ]
  },
  {
   "cell_type": "code",
   "execution_count": 64,
   "metadata": {},
   "outputs": [
    {
     "data": {
      "image/png": "[encoded data removed]",
      "text/plain": [
       "<Figure size 432x288 with 1 Axes>"
      ]
     },
     "metadata": {},
     "output_type": "display_data"
    }
   ],
   "source": [
    "Plot(gaia, sky)"
   ]
  },
  {
   "cell_type": "code",
   "execution_count": 66,
   "metadata": {},
   "outputs": [
    {
     "data": {
      "text/plain": [
       "[<scanner.Observation at 0x11a02f9b0>,\n",
       " <scanner.Observation at 0x11a000208>,\n",
       " <scanner.Observation at 0x10fd63828>,\n",
       " <scanner.Observation at 0x11a000630>,\n",
       " <scanner.Observation at 0x11e423b70>]"
      ]
     },
     "execution_count": 66,
     "metadata": {},
     "output_type": "execute_result"
    }
   ],
   "source": [
    "gaia.measurements"
   ]
  },
  {
   "cell_type": "code",
   "execution_count": null,
   "metadata": {},
   "outputs": [],
   "source": []
  }
 ],
 "metadata": {
  "kernelspec": {
   "display_name": "Python 3",
   "language": "python",
   "name": "python3"
  },
  "language_info": {
   "codemirror_mode": {
    "name": "ipython",
    "version": 3
   },
   "file_extension": ".py",
   "mimetype": "text/x-python",
   "name": "python",
   "nbconvert_exporter": "python",
   "pygments_lexer": "ipython3",
   "version": "3.6.5"
  }
 },
 "nbformat": 4,
 "nbformat_minor": 2
}
